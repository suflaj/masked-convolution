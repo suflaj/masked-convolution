{
 "cells": [
  {
   "cell_type": "markdown",
   "metadata": {},
   "source": [
    "# Masked Convolution"
   ]
  },
  {
   "cell_type": "markdown",
   "metadata": {},
   "source": [
    "## Basic usage"
   ]
  },
  {
   "cell_type": "markdown",
   "metadata": {},
   "source": [
    "The way you use `masked-convolution` is fairly simple. First, import it."
   ]
  },
  {
   "cell_type": "code",
   "execution_count": 1,
   "metadata": {},
   "outputs": [],
   "source": [
    "from masked_convolution import MaskedConvolution"
   ]
  },
  {
   "cell_type": "markdown",
   "metadata": {},
   "source": [
    "Then, once imported you can just use it as a decorator for Torch convolution layers."
   ]
  },
  {
   "cell_type": "code",
   "execution_count": 2,
   "metadata": {},
   "outputs": [],
   "source": [
    "import torch\n",
    "from torch import nn"
   ]
  },
  {
   "cell_type": "code",
   "execution_count": 3,
   "metadata": {},
   "outputs": [],
   "source": [
    "conv_1 = nn.Conv1d(1, 1, 3)\n",
    "conv_2 = nn.Conv2d(1, 1, 3)\n",
    "conv_3 = nn.Conv3d(1, 1, 3)"
   ]
  },
  {
   "cell_type": "code",
   "execution_count": 4,
   "metadata": {},
   "outputs": [],
   "source": [
    "mconv_1 = MaskedConvolution(conv_1, [1, 0, 1])\n",
    "mconv_2 = MaskedConvolution(conv_2, [\n",
    "    [1, 0, 1],\n",
    "    [0, 1, 0],\n",
    "    [1, 0, 1],\n",
    "])\n",
    "mconv_3 = MaskedConvolution(conv_3, [\n",
    "    [\n",
    "        [1, 0, 1],\n",
    "        [0, 1, 0],\n",
    "        [1, 0, 1],\n",
    "    ],\n",
    "    [\n",
    "        [0, 1, 0],\n",
    "        [1, 0, 1],\n",
    "        [0, 1, 0],\n",
    "    ],\n",
    "    [\n",
    "        [1, 0, 1],\n",
    "        [0, 1, 0],\n",
    "        [1, 0, 1],\n",
    "    ],\n",
    "])"
   ]
  },
  {
   "cell_type": "markdown",
   "metadata": {},
   "source": [
    "Then, if we create some dummy data, you can see how it works."
   ]
  },
  {
   "cell_type": "code",
   "execution_count": 5,
   "metadata": {},
   "outputs": [],
   "source": [
    "data_1 = torch.randn((1, 1, 3))\n",
    "data_2 = torch.randn((1, 1, 3, 3))\n",
    "data_3 = torch.randn((1, 1, 3, 3, 3))"
   ]
  },
  {
   "cell_type": "code",
   "execution_count": 6,
   "metadata": {},
   "outputs": [
    {
     "name": "stdout",
     "output_type": "stream",
     "text": [
      "tensor([[[-0.1304]]], grad_fn=<SqueezeBackward1>)\n",
      "tensor([[[[-0.1542]]]], grad_fn=<ThnnConv2DBackward>)\n",
      "tensor([[[[[-0.4354]]]]], grad_fn=<SlowConv3DBackward>)\n"
     ]
    }
   ],
   "source": [
    "for data, conv in zip(\n",
    "    (data_1, data_2, data_3),\n",
    "    (conv_1, conv_2, conv_3)\n",
    "):\n",
    "    print(conv(data))"
   ]
  },
  {
   "cell_type": "markdown",
   "metadata": {},
   "source": [
    "And then we can do the same for the masked convolutions."
   ]
  },
  {
   "cell_type": "code",
   "execution_count": 7,
   "metadata": {},
   "outputs": [
    {
     "name": "stdout",
     "output_type": "stream",
     "text": [
      "tensor([[[-0.4534]]], grad_fn=<SqueezeBackward1>)\n",
      "tensor([[[[0.2355]]]], grad_fn=<ThnnConv2DBackward>)\n",
      "tensor([[[[[-0.1386]]]]], grad_fn=<SlowConv3DBackward>)\n"
     ]
    }
   ],
   "source": [
    "for data, mconv in zip(\n",
    "    (data_1, data_2, data_3),\n",
    "    (mconv_1, mconv_2, mconv_3)\n",
    "):\n",
    "    print(mconv(data))"
   ]
  }
 ],
 "metadata": {
  "kernelspec": {
   "display_name": "masked-convolution",
   "language": "python",
   "name": "masked-convolution"
  },
  "language_info": {
   "codemirror_mode": {
    "name": "ipython",
    "version": 3
   },
   "file_extension": ".py",
   "mimetype": "text/x-python",
   "name": "python",
   "nbconvert_exporter": "python",
   "pygments_lexer": "ipython3",
   "version": "3.8.5"
  }
 },
 "nbformat": 4,
 "nbformat_minor": 4
}
